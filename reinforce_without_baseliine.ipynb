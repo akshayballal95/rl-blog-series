{
 "cells": [
  {
   "cell_type": "code",
   "execution_count": 1,
   "metadata": {},
   "outputs": [],
   "source": [
    "import gymnasium as gym\n",
    "import numpy as np\n",
    "from tqdm import tqdm\n",
    "import torch\n",
    "from torch import nn\n",
    "from torch.optim import AdamW\n",
    "from torch.utils.tensorboard import SummaryWriter\n",
    "import torch.nn.functional as F"
   ]
  },
  {
   "cell_type": "code",
   "execution_count": 2,
   "metadata": {},
   "outputs": [],
   "source": [
    "class PolicyNet(nn.Module):\n",
    "    def __init__(self, nvec_s: int, nvec_u: int):\n",
    "        super(PolicyNet, self).__init__()\n",
    "        self.fc1 = nn.Linear(nvec_s, 128)\n",
    "        self.fc2 = nn.Linear(128, 64)\n",
    "        self.fc3 = nn.Linear(64, nvec_u)\n",
    "\n",
    "    def forward(self, x):\n",
    "        x = F.relu(self.fc1(x))\n",
    "        x = F.relu(self.fc2(x))\n",
    "        x = self.fc3(x)\n",
    "        dist = torch.distributions.Categorical(logits=x)\n",
    "        action = dist.sample()\n",
    "        entropy = dist.entropy()\n",
    "        log_prob = dist.log_prob(action)\n",
    "        return action, log_prob, entropy"
   ]
  },
  {
   "cell_type": "code",
   "execution_count": 3,
   "metadata": {},
   "outputs": [],
   "source": [
    "class Reinforce:\n",
    "    def __init__(self, env:gym.Env, lr, gamma, n_steps):\n",
    "        \n",
    "        self.env = env\n",
    "        self.lr = lr\n",
    "        self.gamma = gamma\n",
    "        self.n_steps = n_steps\n",
    "\n",
    "        self.device = torch.device(\"cuda\" if torch.cuda.is_available() else \"cpu\")\n",
    "        self.policy_net = PolicyNet(env.observation_space.shape[0], env.action_space.n).to(self.device)\n",
    "        self.optimizer_policy = AdamW(self.policy_net.parameters(), lr=lr)\n",
    "\n",
    "        self.total_steps = 0\n",
    "\n",
    "        # stats\n",
    "        self.episodes = 0\n",
    "        self.total_rewards = 0\n",
    "        self.mean_episode_reward = 0\n",
    "\n",
    "\n",
    "    def rollout(self):\n",
    "        \"\"\"\n",
    "        Collects rollouts by interacting with the environment.\n",
    "\n",
    "        Returns:\n",
    "        - The average reward per episode.\n",
    "        \"\"\"\n",
    "        state, info = self.env.reset()\n",
    "        terminated = False\n",
    "        truncated = False\n",
    "\n",
    "        self.log_probs = []\n",
    "        self.rewards = []\n",
    "        self.entropies = []\n",
    "\n",
    "        \n",
    "        while True:\n",
    "\n",
    "            action, log_prob, entropy = self.policy_net(torch.from_numpy(state).float().to(self.device))\n",
    "            next_state, reward, terminated, truncated, _ = self.env.step(action.item())\n",
    "\n",
    "            self.rewards.append(reward)\n",
    "            self.log_probs.append(log_prob)\n",
    "            self.entropies.append(entropy)\n",
    "\n",
    "            state = next_state\n",
    "\n",
    "            self.total_rewards += reward\n",
    "            self.total_steps += 1\n",
    "            self.pbar.update(1)\n",
    "            if terminated or truncated:\n",
    "                self.episodes += 1\n",
    "\n",
    "                if self.episodes % 100 ==0:\n",
    "            \n",
    "                    self.mean_episode_reward = self.total_rewards / self.episodes\n",
    "                    self.pbar.set_description(f\"Reward: {self.mean_episode_reward :.3f}\")\n",
    "                    self.writer.add_scalar(\"Reward\", self.mean_episode_reward, self.total_steps)\n",
    "                    self.episodes =0\n",
    "                    self.total_rewards = 0\n",
    "                \n",
    "                break\n",
    "\n",
    "    \n",
    "    def calculate_returns(self):    \n",
    "\n",
    "        next_returns = 0\n",
    "        returns = np.zeros_like(self.rewards, dtype=np.float32)\n",
    "        for i in reversed(range(len(self.rewards))):\n",
    "            next_returns = self.rewards[i] + self.gamma * next_returns\n",
    "            returns[i] = next_returns   \n",
    "\n",
    "        return torch.tensor(returns, dtype = torch.float32).to(self.device)\n",
    "\n",
    "    def learn(self):\n",
    "\n",
    "        self.log_probs = torch.stack(self.log_probs)\n",
    "        self.entropies = torch.stack(self.entropies) \n",
    "\n",
    "        returns = self.calculate_returns()\n",
    "\n",
    "\n",
    "        policy_loss = -torch.mean(returns.squeeze().detach() * self.log_probs)\n",
    "    \n",
    "        entropy_loss = -torch.mean(self.entropies)\n",
    "        policy_loss = policy_loss + 0.001 * entropy_loss\n",
    "        \n",
    "\n",
    "\n",
    "        self.optimizer_policy.zero_grad()\n",
    "        policy_loss.backward()\n",
    "        torch.nn.utils.clip_grad_norm_(self.policy_net.parameters(), 1)\n",
    "        self.optimizer_policy.step()\n",
    "\n",
    "\n",
    "    def train(self):\n",
    "        self.writer = SummaryWriter(log_dir=\"runs/reinforce_logs/REINFORCE_NO_BASELINE_2\")\n",
    "\n",
    "        self.pbar = tqdm(total=self.n_steps, position=0, leave=True)\n",
    "\n",
    "        while self.total_steps < self.n_steps:\n",
    "\n",
    "            self.rollout()\n",
    "            self.learn()"
   ]
  },
  {
   "cell_type": "code",
   "execution_count": 4,
   "metadata": {},
   "outputs": [
    {
     "name": "stderr",
     "output_type": "stream",
     "text": [
      "Reward: 234.400: 100%|█████████▉| 399871/400000 [12:04<00:00, 902.26it/s] "
     ]
    }
   ],
   "source": [
    "env = gym.make(\"CartPole-v1\")\n",
    "\n",
    "agent = Reinforce(env, 0.0005, 0.99, 400000)\n",
    "agent.train()"
   ]
  },
  {
   "cell_type": "code",
   "execution_count": 5,
   "metadata": {},
   "outputs": [
    {
     "name": "stderr",
     "output_type": "stream",
     "text": [
      "Reward: 234.400: : 400010it [12:20, 902.26it/s]                          "
     ]
    }
   ],
   "source": [
    "env = gym.make(\"CartPole-v1\",\n",
    "               render_mode='human'\n",
    "               )\n",
    "\n",
    "n_episodes = 100\n",
    "for _ in range(n_episodes):\n",
    "    obs, info = env.reset()\n",
    "    terminated = False\n",
    "    truncated = False\n",
    "    while not terminated and not truncated:\n",
    "        with torch.no_grad():\n",
    "            action = agent.policy_net(torch.from_numpy(obs).float().to(agent.device))[0].item()\n",
    "            obs, reward, terminated,  truncated, info = env.step(action)\n",
    "            env.render()"
   ]
  },
  {
   "cell_type": "code",
   "execution_count": null,
   "metadata": {},
   "outputs": [],
   "source": []
  }
 ],
 "metadata": {
  "kernelspec": {
   "display_name": "rl",
   "language": "python",
   "name": "python3"
  },
  "language_info": {
   "codemirror_mode": {
    "name": "ipython",
    "version": 3
   },
   "file_extension": ".py",
   "mimetype": "text/x-python",
   "name": "python",
   "nbconvert_exporter": "python",
   "pygments_lexer": "ipython3",
   "version": "3.11.9"
  }
 },
 "nbformat": 4,
 "nbformat_minor": 2
}
