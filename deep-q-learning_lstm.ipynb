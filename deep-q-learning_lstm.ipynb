{
 "cells": [
  {
   "cell_type": "code",
   "execution_count": 1,
   "metadata": {},
   "outputs": [],
   "source": [
    "import gymnasium as gym\n",
    "import numpy as np\n",
    "from tqdm import tqdm\n",
    "import torch\n",
    "from torch import nn\n",
    "from torch.optim import AdamW\n",
    "from copy import deepcopy\n",
    "from torch.utils.tensorboard import SummaryWriter\n",
    "import torch.nn.functional as F"
   ]
  },
  {
   "cell_type": "code",
   "execution_count": 2,
   "metadata": {},
   "outputs": [],
   "source": [
    "# Define the Gaussian function\n",
    "def gaussian(x, mu, sigma, max_amp):\n",
    "    return max_amp * np.exp(-0.5 * ((x - mu) / sigma)**2)"
   ]
  },
  {
   "cell_type": "markdown",
   "metadata": {},
   "source": [
    "### Environment with No History"
   ]
  },
  {
   "cell_type": "code",
   "execution_count": 3,
   "metadata": {},
   "outputs": [],
   "source": [
    "from collections import deque\n",
    "\n",
    "\n",
    "class PendulumDiscreteStateAction(gym.Wrapper):\n",
    "    \"\"\"\n",
    "    A wrapper class that discretizes the observation and action spaces of the Pendulum environment.\n",
    "    \"\"\"\n",
    "\n",
    "    def __init__(self, env: gym.Env, nvec_u: int, sigma: float, nhist: int):\n",
    "        \"\"\"\n",
    "        Initializes the PendulumDiscreteStateAction wrapper.\n",
    "\n",
    "        Parameters:\n",
    "        - env: The original Pendulum environment.\n",
    "        - nvec_s: A list of integers representing the number of discrete values for each dimension of the observation space.\n",
    "        - nvec_u: A list of integers representing the number of discrete values for each dimension of the action space.\n",
    "        \"\"\"\n",
    "        super(PendulumDiscreteStateAction, self).__init__(env)\n",
    "\n",
    "        self.env = env\n",
    "        self.nvec_u = nvec_u\n",
    "\n",
    "        # Check if the observation space is of type Box\n",
    "        assert isinstance(\n",
    "            env.observation_space, gym.spaces.Box\n",
    "        ), \"Error: observation space is not of type Box\"\n",
    "\n",
    "        # Create a Discrete action space\n",
    "        self.action_space = gym.spaces.Discrete(nvec_u)\n",
    "    \n",
    "\n",
    "        # Define the possible actions\n",
    "        kernel:np.ndarray = gaussian(np.linspace(0, 1, 5), 0, sigma, 2)\n",
    "        self.actions = (-kernel).tolist() + [0] + np.flip(kernel).tolist()\n",
    "        # self.actions = [-2.0, -1.0, -0.5, -0.15, -0.05, 0.0, 0.05, 0.15, 0.5, 1.0, 2.0]\n",
    "\n",
    "        low = []\n",
    "        for _ in range(nhist):\n",
    "            temp_low = []\n",
    "            for value in self.env.observation_space.low:\n",
    "                temp_low.append(value)\n",
    "            temp_low.append(min(self.actions))\n",
    "            low.append(temp_low)\n",
    "\n",
    "        low = np.array([list(self.env.observation_space.low) + [min(self.actions)] for _ in range(nhist)])\n",
    "        high = np.array([list(self.env.observation_space.high) + [max(self.actions)] for _ in range(nhist)])\n",
    "\n",
    "        \n",
    "        self.observation_space = gym.spaces.Box(\n",
    "            low=low,\n",
    "            high=high,\n",
    "            dtype=np.float32\n",
    "        )\n",
    "\n",
    "        self.prev_action = None\n",
    "        self.history = deque(maxlen = nhist)\n",
    "\n",
    "        # Initialize the history with zeros\n",
    "        for i in range(nhist):\n",
    "            self.history.append(np.array([0, 0, 0]))\n",
    "\n",
    "\n",
    "\n",
    "    def step(self, action: int) -> tuple[np.ndarray[float], float, bool, dict]:\n",
    "        \"\"\"\n",
    "        Takes a step in the environment.\n",
    "\n",
    "        Parameters:\n",
    "        - action: The discrete action.\n",
    "\n",
    "        Returns:\n",
    "        - The next discrete observation, reward, termination flag, truncated flag, and additional information.\n",
    "        \"\"\"\n",
    "        action = self.actions[action]\n",
    "        obs, reward, terminated, truncated, info = self.env.step([action])\n",
    "        reward = reward/16.2736044 # normalize the reward between -1 and 1\n",
    "        obs: np.ndarray[float] = obs/self.env.observation_space.high # normalize the observation between -1 and 0\n",
    "        obs=np.append(obs, action/2)\n",
    "        self.history.append(obs)\n",
    "        obs = np.array(list(self.history))  \n",
    "        return obs, reward, terminated, truncated, info\n",
    "\n",
    "    def reset(self) -> tuple[np.ndarray[float], dict]:\n",
    "        \"\"\"\n",
    "        Resets the environment.\n",
    "\n",
    "        Returns:\n",
    "        - The initial discrete observation and additional information.\n",
    "        \"\"\"\n",
    "        obs, info = self.env.reset()\n",
    "        obs: np.ndarray[float] = obs/self.env.observation_space.high\n",
    "        obs=np.append(obs, 0)\n",
    "\n",
    "        # Initialize the history with the same observation\n",
    "        for i in range(len(self.history)):\n",
    "            self.history.append(obs)\n",
    "        obs = np.array(list(self.history))\n",
    "        return obs, info"
   ]
  },
  {
   "cell_type": "markdown",
   "metadata": {},
   "source": [
    "### Create the Q Neural Network"
   ]
  },
  {
   "cell_type": "code",
   "execution_count": 4,
   "metadata": {},
   "outputs": [],
   "source": [
    "class QNetwork(nn.Module):\n",
    "    def __init__(self, nvec_s, nvec_u):\n",
    "        super(QNetwork, self).__init__()\n",
    "\n",
    "        self.lstm = nn.LSTM(nvec_s, 64, 1, batch_first=True)\n",
    "        self.fc1 = nn.Linear(640, 64)\n",
    "        self.fc2 = nn.Linear(64, nvec_u)\n",
    "\n",
    "    def forward(self, x:torch.Tensor) -> torch.Tensor:\n",
    "        x, _ = self.lstm(x)\n",
    "        x= x.flatten(start_dim = 1)\n",
    "        x = F.relu(self.fc1(x))\n",
    "        # x = torch.mean(x, dim=1)\n",
    "        x = self.fc2(x)\n",
    "        return x"
   ]
  },
  {
   "cell_type": "markdown",
   "metadata": {},
   "source": [
    "### Create the Replay Memory"
   ]
  },
  {
   "cell_type": "code",
   "execution_count": 5,
   "metadata": {},
   "outputs": [],
   "source": [
    "class ReplayMemory:\n",
    "    def __init__(self, capacity, env: gym.Env, device: torch.device):\n",
    "        \"\"\"\n",
    "        Initializes the ReplayMemory class.\n",
    "\n",
    "        Parameters:\n",
    "        - capacity: The maximum capacity of the replay memory.\n",
    "        - env: The environment used to define the state and action spaces.\n",
    "        - device: The device (CPU or GPU) used for tensor operations.\n",
    "        \"\"\"\n",
    "        self.position = 0\n",
    "        self.size = 0\n",
    "        self.capacity = capacity\n",
    "        self.device = device\n",
    "\n",
    "        self.n_states = env.observation_space.shape  # Number of dimensions in the state space\n",
    "        self.n_actions = env.action_space.n  # Number of discrete actions\n",
    "\n",
    "        # Initialize arrays to store the replay memory\n",
    "        self.states = np.zeros((capacity, *self.n_states))\n",
    "        self.actions = np.zeros((capacity))\n",
    "        self.rewards = np.zeros(capacity)\n",
    "        self.next_states = np.zeros((capacity, *self.n_states))\n",
    "        self.terminated = np.zeros(capacity)\n",
    "        self.truncated = np.zeros(capacity)\n",
    "\n",
    "    def push(self, state:np.ndarray, action:int, next_state:np.ndarray, reward:float, terminated: bool, truncated:bool):\n",
    "        \"\"\"\n",
    "        Adds a transition to the replay memory.\n",
    "\n",
    "        Parameters:\n",
    "        - state: The current state.\n",
    "        - action: The action taken.\n",
    "        - next_state: The next state.\n",
    "        - reward: The reward received.\n",
    "        - terminated: Whether the episode terminated after this transition.\n",
    "        - truncated: Whether the episode was truncated after this transition.\n",
    "        \"\"\"\n",
    "        self.states[self.position] = state\n",
    "        self.actions[self.position] = action\n",
    "        self.next_states[self.position] = next_state\n",
    "        self.rewards[self.position] = reward\n",
    "        self.terminated[self.position] = terminated\n",
    "        self.truncated[self.position] = truncated\n",
    "\n",
    "        self.position = (self.position + 1) % self.capacity\n",
    "        self.size = min(self.size + 1, self.capacity)\n",
    "\n",
    "    def sample(self, batch_size):\n",
    "        \"\"\"\n",
    "        Samples a batch of transitions from the replay memory.\n",
    "\n",
    "        Parameters:\n",
    "        - batch_size: The size of the batch to sample.\n",
    "\n",
    "        Returns:\n",
    "        - states: The sampled states.\n",
    "        - actions: The sampled actions.\n",
    "        - next_states: The sampled next states.\n",
    "        - rewards: The sampled rewards.\n",
    "        - terminated: The sampled termination flags.\n",
    "        - truncated: The sampled truncation flags.\n",
    "        \"\"\"\n",
    "        indices = np.random.choice(self.size, batch_size, replace=False)\n",
    "\n",
    "        states = torch.tensor(self.states[indices], dtype = torch.float32, device=self.device)\n",
    "        actions = torch.tensor(self.actions[indices], dtype = torch.int64, device=self.device)\n",
    "        next_states = torch.tensor(self.next_states[indices], dtype = torch.float32, device=self.device)\n",
    "        rewards = torch.tensor(self.rewards[indices], dtype = torch.float32, device=self.device)\n",
    "        terminated = torch.tensor(self.terminated[indices], dtype = torch.float32, device=self.device)\n",
    "        truncated = torch.tensor(self.truncated[indices], dtype = torch.float32, device=self.device)\n",
    "\n",
    "        return states, actions, next_states, rewards, terminated, truncated\n",
    "\n",
    "    def __len__(self):\n",
    "        \"\"\"\n",
    "        Returns the current size of the replay memory.\n",
    "        \"\"\"\n",
    "        return len(self.size)"
   ]
  },
  {
   "cell_type": "code",
   "execution_count": 6,
   "metadata": {},
   "outputs": [],
   "source": [
    "class Agent:\n",
    "    def __init__(\n",
    "        self,\n",
    "        env: gym.Env,\n",
    "        gamma=0.99,\n",
    "        alpha=0.0005,\n",
    "        initial_epsilon=1,\n",
    "        min_epsilon=0.1,\n",
    "        decay_rate=0.99995,\n",
    "        batch_size=64,\n",
    "        n_rollouts=2000,\n",
    "        capacity=100000,\n",
    "        device: torch.device = torch.device(\"cpu\"),\n",
    "    ):\n",
    "\n",
    "        self.env = env\n",
    "        self.device = device\n",
    "        self.gamma = gamma\n",
    "        self.alpha = alpha\n",
    "        self.epsilon = initial_epsilon\n",
    "        self.batch_size = batch_size\n",
    "        self.n_rollouts = n_rollouts\n",
    "\n",
    "        self.epsilon = 1\n",
    "        self.min_epsilon = min_epsilon\n",
    "        self.decay_rate = decay_rate\n",
    "\n",
    "        self.replay_memory = ReplayMemory(capacity, env, device)\n",
    "        self.q_network = QNetwork(\n",
    "            4, env.action_space.n\n",
    "        ).to(device)\n",
    "        self.target_network = deepcopy(self.q_network)\n",
    "        self.optimizer = AdamW(self.q_network.parameters(), lr=alpha)\n",
    "\n",
    "        self.n_states = env.observation_space.shape[\n",
    "            0\n",
    "        ]  # Number of dimensions in the state space\n",
    "\n",
    "        # for metrics\n",
    "        self.n_time_steps = 0  # number of time steps\n",
    "        self.episodes = 0  # number of episodes\n",
    "        self.n_updates = 0  # number of gradient updates\n",
    "        self.best_reward = -np.inf\n",
    "\n",
    "\n",
    "    def get_action(self, obs, greedy=False):\n",
    "        if not greedy and np.random.rand() < self.epsilon:\n",
    "            return np.random.randint(self.env.action_space.n)\n",
    "        obs = torch.tensor(obs, dtype=torch.float32, device=self.device).unsqueeze(0)\n",
    "        self.q_network.eval()\n",
    "        with torch.no_grad():\n",
    "            q_values: torch.Tensor = self.q_network(obs)\n",
    "            return q_values.argmax().item()\n",
    "\n",
    "    def sample_experience(self):\n",
    "        return self.replay_memory.sample(self.batch_size)\n",
    "\n",
    "    def update_target(self):\n",
    "        self.target_network.load_state_dict(self.q_network.state_dict())\n",
    "\n",
    "    def collect_rollouts(self):\n",
    "        obs, info = self.env.reset()\n",
    "        terminated = False\n",
    "        truncated = False\n",
    "        rewards = 0\n",
    "        episodes = 0\n",
    "        for _ in range(self.n_rollouts):\n",
    "            action = self.get_action(obs, greedy=False)\n",
    "            next_obs, reward, terminated, truncated, _ = self.env.step(action)\n",
    "            self.replay_memory.push(\n",
    "                obs, action, next_obs, reward, terminated, truncated\n",
    "            )  # save the transition\n",
    "            obs = next_obs\n",
    "            rewards += reward\n",
    "            self.n_time_steps += 1\n",
    "            if terminated or truncated:\n",
    "                episodes += 1\n",
    "                self.episodes += 1\n",
    "                obs, info = self.env.reset()\n",
    "\n",
    "            self.epsilon = max(\n",
    "                self.min_epsilon, self.decay_rate * self.epsilon\n",
    "            )  # decrease epsilon\n",
    "\n",
    "        return rewards / episodes  # return the average reward per episode\n",
    "    def learn(self, epochs):\n",
    "        self.q_network.train()\n",
    "\n",
    "        average_loss = 0\n",
    "        for i in range(epochs):\n",
    "            obs, action, next_obs, reward, terminated, truncated = (\n",
    "                self.sample_experience()\n",
    "            )\n",
    "            q_values: torch.Tensor = self.q_network(obs)\n",
    "            next_q_values = self.target_network(next_obs)\n",
    "\n",
    "            q_value = q_values.gather(1, action.unsqueeze(1)).squeeze(1)\n",
    "            next_q_value = next_q_values.max(1).values\n",
    "            target = reward + self.gamma * next_q_value * (1 - terminated) * (\n",
    "                1 - truncated\n",
    "            )\n",
    "\n",
    "            loss = F.smooth_l1_loss(q_value, target)\n",
    "\n",
    "            self.optimizer.zero_grad()\n",
    "            loss.backward()\n",
    "            torch.nn.utils.clip_grad_norm_(self.q_network.parameters(), 10)\n",
    "            self.optimizer.step()\n",
    "            \n",
    "            average_loss += (loss.item() - average_loss) / (i + 1)\n",
    "            self.n_updates += 1\n",
    "\n",
    "            if self.n_updates % 1000 == 0:\n",
    "                self.update_target()\n",
    "\n",
    "        return average_loss\n",
    "    def evaluate(self, n_steps):\n",
    "        self.q_network.eval()\n",
    "        rewards = 0\n",
    "        episodes = 0\n",
    "        with torch.no_grad():\n",
    "            obs, info = self.env.reset()\n",
    "            for _ in range(n_steps):\n",
    "                action = self.get_action(obs, greedy=True)\n",
    "                obs, reward, terminated, truncated, _ = self.env.step(action)\n",
    "                rewards += reward\n",
    "\n",
    "                if terminated or truncated:\n",
    "                    episodes += 1\n",
    "                    self.env.reset()\n",
    "                    \n",
    "        rewards /= episodes   \n",
    "        if rewards > self.best_reward:\n",
    "            self.best_reward = rewards\n",
    "            torch.save(self.q_network.state_dict(), \"dqn_lstm_best_model.pth\")\n",
    "            print(\"New best model saved!\")\n",
    "        return rewards\n",
    "\n",
    "    def train(self, epochs):\n",
    "        self.writer = SummaryWriter(log_dir=\"dqn_logs/DQN_LSTM_2\")\n",
    "\n",
    "        pbar = tqdm(range(epochs))\n",
    "        for i in pbar:\n",
    "            rewards = self.collect_rollouts()\n",
    "            loss = self.learn(int(self.n_rollouts/2))\n",
    "            eval_reward = self.evaluate(1000)\n",
    "            if eval_reward > -6:\n",
    "                self.min_epsilon = 0.05\n",
    "\n",
    "            pbar.set_description(\n",
    "                f\"Iteration {i+1} || Reward: {rewards:.3f} || Eval Reward: {eval_reward :.3f} || Loss: {loss:.3f} || Epsilon: {self.epsilon:.2f} || Time steps: {self.n_time_steps} || N updates: {self.n_updates}\"\n",
    "            )\n",
    "            self.writer.add_scalar(\"Training/Loss\", loss, self.n_updates)\n",
    "            self.writer.add_scalar(\n",
    "                \"Training/Rollout: Mean Episode Reward\", rewards, self.n_updates\n",
    "            )\n",
    "            self.writer.add_scalar(\n",
    "                \"Evaluation/Mean Episode Reward\", eval_reward, self.n_updates\n",
    "            )"
   ]
  },
  {
   "cell_type": "code",
   "execution_count": 7,
   "metadata": {},
   "outputs": [],
   "source": [
    "env = gym.make(\"Pendulum-v1\")\n",
    "env._max_episode_steps = 500\n",
    "env = PendulumDiscreteStateAction(env, 11, 0.4, 10)\n"
   ]
  },
  {
   "cell_type": "code",
   "execution_count": 8,
   "metadata": {},
   "outputs": [],
   "source": [
    "agent = Agent(env)"
   ]
  },
  {
   "cell_type": "code",
   "execution_count": 9,
   "metadata": {},
   "outputs": [
    {
     "name": "stderr",
     "output_type": "stream",
     "text": [
      "Iteration 1 || Reward: -181.752 || Eval Reward: -283.606 || Loss: 0.002 || Epsilon: 0.90 || Time steps: 2000 || N updates: 1000:   2%|▎         | 1/40 [00:13<09:04, 13.95s/it]"
     ]
    },
    {
     "name": "stdout",
     "output_type": "stream",
     "text": [
      "New best model saved!\n"
     ]
    },
    {
     "name": "stderr",
     "output_type": "stream",
     "text": [
      "Iteration 2 || Reward: -161.111 || Eval Reward: -156.236 || Loss: 0.001 || Epsilon: 0.82 || Time steps: 4000 || N updates: 2000:   5%|▌         | 2/40 [00:29<09:17, 14.67s/it]"
     ]
    },
    {
     "name": "stdout",
     "output_type": "stream",
     "text": [
      "New best model saved!\n"
     ]
    },
    {
     "name": "stderr",
     "output_type": "stream",
     "text": [
      "Iteration 10 || Reward: -177.333 || Eval Reward: -137.744 || Loss: 0.007 || Epsilon: 0.37 || Time steps: 20000 || N updates: 10000:  25%|██▌       | 10/40 [02:57<09:25, 18.85s/it]"
     ]
    },
    {
     "name": "stdout",
     "output_type": "stream",
     "text": [
      "New best model saved!\n"
     ]
    },
    {
     "name": "stderr",
     "output_type": "stream",
     "text": [
      "Iteration 11 || Reward: -142.039 || Eval Reward: -5.711 || Loss: 0.007 || Epsilon: 0.33 || Time steps: 22000 || N updates: 11000:  28%|██▊       | 11/40 [03:16<09:13, 19.07s/it]  "
     ]
    },
    {
     "name": "stdout",
     "output_type": "stream",
     "text": [
      "New best model saved!\n"
     ]
    },
    {
     "name": "stderr",
     "output_type": "stream",
     "text": [
      "Iteration 13 || Reward: -101.361 || Eval Reward: -4.481 || Loss: 0.008 || Epsilon: 0.27 || Time steps: 26000 || N updates: 13000:  32%|███▎      | 13/40 [03:58<08:59, 19.98s/it] "
     ]
    },
    {
     "name": "stdout",
     "output_type": "stream",
     "text": [
      "New best model saved!\n"
     ]
    },
    {
     "name": "stderr",
     "output_type": "stream",
     "text": [
      "Iteration 28 || Reward: -5.765 || Eval Reward: -7.450 || Loss: 0.015 || Epsilon: 0.06 || Time steps: 56000 || N updates: 28000:  70%|███████   | 28/40 [09:36<04:41, 23.46s/it]  "
     ]
    }
   ],
   "source": [
    "agent.train(40)"
   ]
  },
  {
   "cell_type": "code",
   "execution_count": 11,
   "metadata": {},
   "outputs": [
    {
     "name": "stdout",
     "output_type": "stream",
     "text": [
      "Total reward:  -9.512548627484573\n"
     ]
    }
   ],
   "source": [
    "import matplotlib.pyplot as plt\n",
    "\n",
    "env = gym.make(\"Pendulum-v1\",\n",
    "            #    render_mode='human'\n",
    "               )\n",
    "env._max_episode_steps = 500\n",
    "env = PendulumDiscreteStateAction(env, 11, 0.4, 10)\n",
    "\n",
    "# agent = Agent(env)\n",
    "# agent.q_network.load_state_dict(torch.load(\"models/deep_q_learning/dqn_lstm_best_model.pth\"))\n",
    "\n",
    "rewards = []\n",
    "thetas = []\n",
    "actions = []\n",
    "tot_reward = 0\n",
    "n_episodes = 50\n",
    "n_steps= 0\n",
    "for _ in range(n_episodes):\n",
    "\n",
    "    obs, info = env.reset()\n",
    "    terminated = False\n",
    "    truncated = False\n",
    "    while not terminated and not truncated:\n",
    "        with torch.no_grad():\n",
    "                    \n",
    "            action = agent.get_action(obs, greedy = True)\n",
    "            obs, reward, terminated,  truncated, info = env.step(action)\n",
    "            x = env.unwrapped._get_obs()[0] * env.observation_space.high[0]\n",
    "            y = env.unwrapped._get_obs()[1] * env.observation_space.high[1]\n",
    "            theta = np.arctan2(y, x)\n",
    "            thetas.append(theta)\n",
    "            actions.append(action)\n",
    "            rewards.append(reward)\n",
    "            tot_reward += reward\n",
    "            n_steps+=1\n",
    "            # env.render()\n",
    "print(\"Total reward: \", tot_reward/n_episodes)\n"
   ]
  },
  {
   "cell_type": "code",
   "execution_count": 12,
   "metadata": {},
   "outputs": [
    {
     "data": {
      "text/plain": [
       "<matplotlib.legend.Legend at 0x20f688cd010>"
      ]
     },
     "execution_count": 12,
     "metadata": {},
     "output_type": "execute_result"
    },
    {
     "data": {
      "image/png": "[encoded data removed]",
      "text/plain": [
       "<Figure size 640x480 with 1 Axes>"
      ]
     },
     "metadata": {},
     "output_type": "display_data"
    }
   ],
   "source": [
    "plt.plot(thetas[0:1500])\n",
    "plt.title(\"Pendulum Angle\")\n",
    "plt.xlabel(\"Time steps\")\n",
    "plt.ylabel(\"Theta angle\")\n",
    "\n",
    "# mark reset with vertical line at 500, 1000, 1500\n",
    "\n",
    "plt.axvline(x=500, color='black', linestyle='--', label='reset')\n",
    "plt.axvline(x=1000, color='black', linestyle='--')\n",
    "plt.axvline(x=1500, color='black', linestyle='--')\n",
    "plt.legend()"
   ]
  },
  {
   "cell_type": "code",
   "execution_count": 13,
   "metadata": {},
   "outputs": [
    {
     "data": {
      "text/plain": [
       "<matplotlib.legend.Legend at 0x20f62efefd0>"
      ]
     },
     "execution_count": 13,
     "metadata": {},
     "output_type": "execute_result"
    },
    {
     "data": {
      "image/png": "[encoded data removed]",
      "text/plain": [
       "<Figure size 640x480 with 1 Axes>"
      ]
     },
     "metadata": {},
     "output_type": "display_data"
    }
   ],
   "source": [
    "plt.plot(rewards[:1500])\n",
    "plt.title(\"Pendulum Reward\")\n",
    "plt.xlabel(\"Time steps\")\n",
    "plt.ylabel(\"Reward\")\n",
    "\n",
    "plt.axvline(x=500, color='b', linestyle='--', label='reset')\n",
    "plt.axvline(x=1000, color='b', linestyle='--')\n",
    "plt.axvline(x=1500, color='b', linestyle='--')\n",
    "plt.legend()"
   ]
  },
  {
   "cell_type": "code",
   "execution_count": null,
   "metadata": {},
   "outputs": [],
   "source": []
  }
 ],
 "metadata": {
  "kernelspec": {
   "display_name": "syscon",
   "language": "python",
   "name": "python3"
  },
  "language_info": {
   "codemirror_mode": {
    "name": "ipython",
    "version": 3
   },
   "file_extension": ".py",
   "mimetype": "text/x-python",
   "name": "python",
   "nbconvert_exporter": "python",
   "pygments_lexer": "ipython3",
   "version": "3.11.9"
  }
 },
 "nbformat": 4,
 "nbformat_minor": 2
}
